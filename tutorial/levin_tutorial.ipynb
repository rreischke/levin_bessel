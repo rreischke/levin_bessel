{
 "cells": [
  {
   "cell_type": "code",
   "execution_count": null,
   "metadata": {},
   "outputs": [],
   "source": [
    "import pylevin as levin\n",
    "import numpy as np\n",
    "import time\n",
    "import matplotlib.pyplot as plt"
   ]
  },
  {
   "cell_type": "markdown",
   "metadata": {},
   "source": [
    "# Integral over a single Bessel function tutorial and comparison"
   ]
  },
  {
   "cell_type": "markdown",
   "metadata": {},
   "source": [
    "Let us define an integral of the type\n",
    "$$ I(k,y) = \\int_a^b j_\\ell(xk) f(x,y) \\mathrm{d}x\\,, $$\n",
    "which we integrate from $x=10^{-5}$ to $100$. For the function we assume $f(x) = x^{3y} + x^2 + x$. For different values of $y$. We first define the integrand so that it has the shape ``(len(x),N)``."
   ]
  },
  {
   "cell_type": "code",
   "execution_count": null,
   "metadata": {},
   "outputs": [],
   "source": [
    "x_length = 100\n",
    "N = 2\n",
    "x = np.geomspace(1e-5,100,x_length) #define support\n",
    "y = np.linspace(1,2, N) \n",
    "f_of_x = x[:,None]**(3*y[None,:]) + (x**2 +x)[:, None] #define integrands f(x) "
   ]
  },
  {
   "cell_type": "markdown",
   "metadata": {},
   "source": [
    "Next, we set up the levin class for the case ``0``, because we are interested in integrals over a single spherical Bessel function. Since our integrand is a power law, it is useful to interpolate double logarithmically, so we set ``logx = True`` and ``logy = True``. Lastly, we initialise the class by calling ``levin.pylevin``."
   ]
  },
  {
   "cell_type": "code",
   "execution_count": null,
   "metadata": {},
   "outputs": [],
   "source": [
    "integral_type = 0 \n",
    "N_thread = 1 # Number of threads used for hyperthreading\n",
    "logx = True # Tells the code to create a logarithmic spline in x for f(x)\n",
    "logy = True # Tells the code to create a logarithmic spline in y for y = f(x)\n",
    "lp_single = levin.pylevin(integral_type,\n",
    "                          x,\n",
    "                          f_of_x,\n",
    "                          logx,\n",
    "                          logy,\n",
    "                          N_thread) #Constructor of the class\n",
    "\n",
    "'''n_sub = 10 #number of collocation points in each bisection\n",
    "n_bisec_max = 32 #maximum number of bisections used\n",
    "rel_acc = 1e-4 #relative accuracy target\n",
    "boost_bessel = True #should the bessel functions be calculated with boost instead of GSL, higher accuracy at high Bessel orders\n",
    "verbose = False #should the code talk to you?\n",
    "lp_single.set_levin(n_sub, n_bisec_max, rel_acc, boost_bessel, verbose)'''"
   ]
  },
  {
   "cell_type": "markdown",
   "metadata": {},
   "source": [
    "We have now initiated the levin class and the spline for the integrand is set as well as the integral type, which we choose to be the one displayed on top (the type cannot be changed in the same instance of levinpower). The code checks internally if a logarithmic spline can be created, i.e. if $f(x)$ is positive everywhere. If this is not the case the code falls back to a linear spline. \n",
    "\n",
    "Note that we simply pretend to have many integrands $f(x)$ we of the integral type above by broadcasting. In prinicple, the code simply expects the support `x` and the integrand `f_of_x` which should have shape `(len(x),#number integrands)`. Pay attention that the second dimension always must be around even for a single integrand. So you could for example pass `x` and `f_of_x[:, None]`, if `f_of_x` is a simple 1d array.\n",
    "\n",
    "We can plot the integrand if we like by calling `get_integrand(x)`, which returns a list, castable to an array, of shape `(len(x), N)`. The dashed lines show the input integrand and the solid lines the integrand returned from levin."
   ]
  },
  {
   "cell_type": "code",
   "execution_count": null,
   "metadata": {},
   "outputs": [],
   "source": [
    "integrand = np.array(lp_single.get_integrand(x))\n",
    "fig, ax = plt.subplots()\n",
    "ax.loglog(x, integrand, alpha = .3, lw = 3)\n",
    "ax.loglog(x, f_of_x, ls = \"--\")\n",
    "ax.set_xlabel(\"x\")\n",
    "ax.set_ylabel(\"integrand\")"
   ]
  },
  {
   "cell_type": "markdown",
   "metadata": {},
   "source": [
    "We now define the arguments `k` and `ell` at which the integrals are to be evaluated as well as the lower and upper integration bound. These all have to be one-dimensional arrays of the same size `M`. \n",
    "Importantly, we have to create the `result` array of the correct shape. It has to have shape `(M,N)`, i.e. the number of arguments and the number of integrands.\n",
    "\n",
    "Lastly, the variable `diagonal` simply specifies if only the diagonal terms of `(M,N)` matrix should be calculated. Setting it to `True` only works of `M = N`. In this case, `result` must also be a simple one-dimensional array of size `N`."
   ]
  },
  {
   "cell_type": "code",
   "execution_count": null,
   "metadata": {},
   "outputs": [],
   "source": [
    "M = 1000 #number of arguments at which the integrals are evaluated\n",
    "k = np.geomspace(1e-3,1e4,M)\n",
    "ell = (5*np.ones_like(k)).astype(int) #order of the Bessel function, needs to be an integer\n",
    "t0 = time.time()\n",
    "result_levin = np.zeros((M, N)) #allocate the result\n",
    "lp_single.levin_integrate_bessel_single(x[0]*np.ones_like(k), x[-1]*np.ones_like(k), k, ell, result_levin)\n",
    "print(\"Levin took\", time.time() -t0, \"s\")\n",
    "\n"
   ]
  },
  {
   "cell_type": "markdown",
   "metadata": {},
   "source": [
    "Next, we can compare the result from levin to a normal (adaptive) quadrature integration. We plot the integral for the first integrand times `k` to highlight the large frequency behaviour. It can be seen that both methods agree well up to $k\\approx 1$. For larger values, however, the quadrature integration breaks down completely. Furthermore, the Levin method was roughly **100 times faster**. To level the playing ground, we did not use hyperthreading in both cases and required the same relative accuracy to be reached."
   ]
  },
  {
   "cell_type": "code",
   "execution_count": null,
   "metadata": {},
   "outputs": [],
   "source": [
    "from scipy.special import spherical_jn, jv\n",
    "from scipy import integrate\n",
    "\n",
    "\n",
    "quad_result = np.zeros_like(result_levin)\n",
    "\n",
    "t0 = time.time()\n",
    "for k_i, k_val in enumerate(k):\n",
    "    for i_integral in range(N):\n",
    "        integrand_quad = lambda xquad: ((xquad**(3*y[i_integral]) + xquad**2 + xquad)*spherical_jn(ell[0],k_val*xquad))\n",
    "        quad_result[k_i, i_integral] = integrate.quad(integrand_quad, x[0], x[-1], epsabs=0, epsrel = 1e-4)[0]\n",
    "print(\"Quadrature took\", time.time() -t0, \"s\")\n",
    "\n",
    "fig, ax = plt.subplots(2)\n",
    "ax[0].semilogx(k,quad_result[:,0]*k, label = r\"quadrature\")\n",
    "ax[0].semilogx(k,result_levin[:,0]*k, ls = \"--\", label = r\"levin\")\n",
    "ax[0].set_ylabel(r\"$k \\times$ integral\", fontsize = 16)\n",
    "ax[0].grid(axis = \"both\")\n",
    "ax[0].legend(fontsize = 12)\n",
    "\n",
    "\n",
    "ax[1].semilogx(k, (quad_result[:,0] - result_levin[:,0])/result_levin[:,0])\n",
    "ax[1].set_xlabel(\"k\", fontsize = 16)\n",
    "ax[1].set_ylabel(\"relative difference\", fontsize = 16)\n",
    "ax[1].set_ylim(-.01,.01)\n",
    "ax[1].grid()\n",
    "plt.subplots_adjust(wspace=0, hspace=0)\n"
   ]
  },
  {
   "cell_type": "markdown",
   "metadata": {},
   "source": [
    "The story does not end here though, we can now update the integrand in levin if the rest of the integral stays the same, i.e. we just update $f(x,y)$. If we now reevaluate the integral, it uses the bisection which was already defined before. If the functional form of $f(x,y)$ changes too much, defined bisection will not be correct and one would have to create a new instance of levin (as done above). However, for almost all inference problems, where $f(x,y)$ only differs by a little, we can reuse the instantiated class.\n",
    "\n",
    "We again compare the result again against a quadrature and see a similar storyline as before, but the levin method was even faster. "
   ]
  },
  {
   "cell_type": "code",
   "execution_count": null,
   "metadata": {},
   "outputs": [],
   "source": [
    "f_of_x = x[:,None]**(2.5*y[None,:]) + (x**1.5 +x)[:, None] #define integrands f(x) \n",
    "\n",
    "t0 = time.time()\n",
    "lp_single.update_integrand(x,f_of_x, logx, logy)\n",
    "lp_single.levin_integrate_bessel_single(x[0]*np.ones_like(k), x[-1]*np.ones_like(k), k, ell, result_levin)\n",
    "print(\"Levin took\", time.time() -t0, \"s\")\n",
    "\n",
    "t0 = time.time()\n",
    "for k_i, k_val in enumerate(k):\n",
    "    for i_integral in range(N):\n",
    "        integrand_quad = lambda xquad: ((xquad**(2.5*y[i_integral]) + xquad**1.5 + xquad)*spherical_jn(ell[0],k_val*xquad))\n",
    "        quad_result[k_i, i_integral] = integrate.quad(integrand_quad, x[0], x[-1], epsabs=0, epsrel = 1e-4)[0]\n",
    "print(\"Quadrature took\", time.time() -t0, \"s\")\n",
    "\n",
    "fig, ax = plt.subplots(2)\n",
    "ax[0].semilogx(k,quad_result[:,0]*k, label = r\"quadrature\")\n",
    "ax[0].semilogx(k,result_levin[:,0]*k, ls = \"--\", label = r\"levin\")\n",
    "ax[0].set_ylabel(r\"$k \\times$ integral\", fontsize = 16)\n",
    "ax[0].grid(axis = \"both\")\n",
    "ax[0].legend(fontsize = 12)\n",
    "\n",
    "ax[1].semilogx(k, (quad_result[:,0] - result_levin[:,0])/result_levin[:,0])\n",
    "ax[1].set_xlabel(\"k\", fontsize = 16)\n",
    "ax[1].set_ylabel(\"relative difference\", fontsize = 16)\n",
    "ax[1].set_ylim(-.01,.01)\n",
    "ax[1].grid()\n",
    "plt.subplots_adjust(wspace=0, hspace=0)\n",
    "\n",
    "\n"
   ]
  },
  {
   "cell_type": "markdown",
   "metadata": {},
   "source": [
    "We now update the integrand again. What happens if you run levin in the same instance twice is that it not only sets the bisection but also has the linear system of equations solved (up to the inhomogeneity), which is given by $f(x,y)$. Therefore the integration simply amounts to matrix multiplications summing up the results from the different bisections.\n",
    "\n",
    "From this, we obtain the largest speed-up of levin and it is now **1000** times faster than the quadrature. Note that this is a lower bound on the improvement and that the quadrature completely fails and high frequencies.\n",
    "\n"
   ]
  },
  {
   "cell_type": "code",
   "execution_count": null,
   "metadata": {},
   "outputs": [],
   "source": [
    "f_of_x = x[:,None]**(2*y[None,:]) + (x**1.1 +x)[:, None] #define integrands f(x) \n",
    "\n",
    "t0 = time.time()\n",
    "lp_single.update_integrand(x,f_of_x, logx, logy)\n",
    "lp_single.levin_integrate_bessel_single(x[0]*np.ones_like(k), x[-1]*np.ones_like(k), k, ell, result_levin)\n",
    "print(\"Levin took\", time.time() -t0, \"s\")\n",
    "\n",
    "t0 = time.time()\n",
    "for k_i, k_val in enumerate(k):\n",
    "    for i_integral in range(N):\n",
    "        integrand_quad = lambda xquad: ((xquad**(2.*y[i_integral]) + xquad**1.1 + xquad)*spherical_jn(ell[0],k_val*xquad))\n",
    "        quad_result[k_i, i_integral] = integrate.quad(integrand_quad, x[0], x[-1], epsabs=0, epsrel = 1e-4)[0]\n",
    "print(\"Quadrature took\", time.time() -t0, \"s\")\n",
    "\n",
    "fig, ax = plt.subplots(2)\n",
    "ax[0].semilogx(k,quad_result[:,0]*k, label = r\"quadrature\")\n",
    "ax[0].semilogx(k,result_levin[:,0]*k, ls = \"--\", label = r\"levin\")\n",
    "ax[0].set_ylabel(r\"$k \\times$ integral\", fontsize = 16)\n",
    "ax[0].grid(axis = \"both\")\n",
    "ax[0].legend(fontsize = 12)\n",
    "\n",
    "ax[1].semilogx(k, (quad_result[:,0] - result_levin[:,0])/result_levin[:,0])\n",
    "ax[1].set_xlabel(\"k\", fontsize = 16)\n",
    "ax[1].set_ylabel(\"relative difference\", fontsize = 16)\n",
    "ax[1].set_ylim(-.01,.01)\n",
    "ax[1].grid()\n",
    "plt.subplots_adjust(wspace=0, hspace=0)\n",
    "\n",
    "\n"
   ]
  },
  {
   "cell_type": "markdown",
   "metadata": {},
   "source": [
    "# Integral over a product of two Bessel functions"
   ]
  },
  {
   "cell_type": "markdown",
   "metadata": {},
   "source": [
    "Let us define an integral of the type\n",
    "$$ I(k_1,k_2,\\ell_1,\\ell_2,y) = \\int j_{\\ell_1}(xk_1)j_{\\ell_2}(xk_2) f(x,y) \\mathrm{d}x\\,, $$\n",
    "\n",
    "which we integrate from $x=10^{-5}$ to $100$. For the function we assume $f(x) = x^{3y} + x^2 + x$. For different values of $y$. We first define the integrand so that it has the shape ``(len(x),N)``. We follow the steps described above in the example for the single Bessel function. We do not update the integrand though, however, you can expect at a reduction of a factor 10 in runtime when updating the integrand as before.\n",
    "\n",
    "Furthermore, we also use the `set_levin` function, which allows to play with the parameters of the code. Note, that this should be set before the first time calculating the integral for a given instance and must not be changed after.\n",
    "\n",
    "We see the same behaviour as in the case of a single Bessel function, namely that Levin is way faster (at least two orders) and more accurate, especially at high frequencies, where the quadrature completely fails."
   ]
  },
  {
   "cell_type": "code",
   "execution_count": null,
   "metadata": {},
   "outputs": [],
   "source": [
    "x_length = 100\n",
    "N = 2\n",
    "x = np.geomspace(1e-5,100,x_length) #define support\n",
    "f_of_x = x[:,None]**(3*y[None,:]) + (x**2 +x)[:, None] #define integrands f(x) \n",
    "\n",
    "integral_type = 2\n",
    "N_thread = 1 # Number of threads used for hyperthreading\n",
    "logx = True # Tells the code to create a logarithmic spline in x for f(x)\n",
    "logy = True # Tells the code to create a logarithmic spline in y for y = f(x)\n",
    "lp_double = levin.pylevin(integral_type, x, f_of_x, logx, logy, N_thread) #Constructor of the class\n",
    "\n",
    "n_sub = 8 #number of collocation points in each bisection\n",
    "n_bisec_max =64 #maximum number of bisections used\n",
    "rel_acc = 1e-4 #relative accuracy target\n",
    "boost_bessel = True #should the bessel functions be calculated with boost instead of GSL, higher accuracy at high Bessel orders\n",
    "verbose = True #should the code talk to you?\n",
    "lp_double.set_levin(n_sub, n_bisec_max, rel_acc, boost_bessel, verbose)\n",
    "\n",
    "M = 1000\n",
    "k = np.geomspace(1e-2,1000,M)\n",
    "ell_1 = (5*np.ones_like(k)).astype(int)\n",
    "ell_2 = (10*np.ones_like(k)).astype(int)\n",
    "a = x[0]*np.ones_like(k)\n",
    "b = x[-1]*np.ones_like(k)\n",
    "t0 = time.time()\n",
    "lp_double.levin_integrate_bessel_double(a,b,\n",
    "                                        k,k,\n",
    "                                        ell_1,ell_2,\n",
    "                                        result_levin)\n",
    "print(\"Levin took\", time.time() -t0, \"s\")\n",
    "\n",
    "\n",
    "t0 = time.time()\n",
    "for k_i, k_val in enumerate(k):\n",
    "    for i_integral in range(N):\n",
    "        integrand_quad = lambda xquad: ((xquad**(3*y[i_integral]) + xquad**2 + xquad)*spherical_jn(ell_1[0],k_val*xquad) * spherical_jn(ell_2[0],k_val*xquad))\n",
    "        quad_result[k_i, i_integral] = integrate.quad(integrand_quad, x[0], x[-1], epsabs=0, epsrel = 1e-4)[0]\n",
    "print(\"Quadrature took\", time.time() -t0, \"s\")\n",
    "\n",
    "fig, ax = plt.subplots(2)\n",
    "ax[0].semilogx(k,quad_result[:,0]*k**2, label = r\"quadrature\")\n",
    "ax[0].semilogx(k,result_levin[:,0]*k**2, ls = \"--\", label = r\"levin\")\n",
    "ax[0].set_ylabel(r\"$k^2 \\times$ integral\", fontsize = 16)\n",
    "ax[0].grid(axis = \"both\")\n",
    "ax[0].legend(fontsize = 12)\n",
    "ax[0].set_ylim(1.1*np.min(result_levin[:,0]*k**2),1.1*np.max(result_levin[:,0]*k**2))\n",
    "\n",
    "\n",
    "ax[1].semilogx(k, (quad_result[:,0] - result_levin[:,0])/result_levin[:,0])\n",
    "ax[1].set_xlabel(\"k\", fontsize = 16)\n",
    "ax[1].set_ylabel(\"relative difference\", fontsize = 16)\n",
    "ax[1].set_ylim(-.01,.01)\n",
    "ax[1].grid()\n",
    "plt.subplots_adjust(wspace=0, hspace=0)"
   ]
  },
  {
   "cell_type": "markdown",
   "metadata": {},
   "source": [
    "# Integral over a product of three Bessel functions"
   ]
  },
  {
   "cell_type": "markdown",
   "metadata": {},
   "source": [
    "Let us define an integral of the type\n",
    "$$ I(k_1,k_2,k_3,\\ell_1,\\ell_2,\\ell_3,y) = \\int j_{\\ell_1}(xk_1)j_{\\ell_2}(xk_2)j_{\\ell_3}(xk_3) f(x,y) \\mathrm{d}x\\,, $$\n",
    "\n",
    "which we integrate from $x=10^{-5}$ to $100$. For the function we assume $f(x) = x^{3y} + x^2 + x$. For different values of $y$. We first define the integrand so that it has the shape ``(len(x),N)``. We follow the steps described above in the example for the single Bessel function. However, we use a few tweaks by using the `set_levin` function again. First, we increase the number of maximum bisections (this is very equivalent to increasing `limit`in `scipy.integrate.quad`), furthermore we use multiple threads and do not allow any early interruption of the bisection. \n",
    "\n",
    "For the comparison with the quadrature, we also increase the limits. Again we see, that levin is faster and more accurate and high frequencies. As before, we did not update the integrand."
   ]
  },
  {
   "cell_type": "code",
   "execution_count": null,
   "metadata": {},
   "outputs": [],
   "source": [
    "x_length = 100\n",
    "N = 2\n",
    "x = np.geomspace(1e-5,100,x_length) #define support\n",
    "y = np.linspace(1,2, N) \n",
    "\n",
    "f_of_x = x[:,None]**(3*y[None,:]) + (x**2 +x)[:, None] #define integrands f(x) \n",
    "\n",
    "integral_type = 4 \n",
    "N_thread = 8 # Number of threads used for hyperthreading\n",
    "logx = True # Tells the code to create a logarithmic spline in x for f(x)\n",
    "logy = True # Tells the code to create a logarithmic spline in y for y = f(x)\n",
    "lp_triple = levin.pylevin(integral_type, x, f_of_x, logx, logy, N_thread) #Constructor of the class\n",
    "\n",
    "n_sub = 6 #number of collocation points in each bisection\n",
    "n_bisec_max = 96 #maximum number of bisections used\n",
    "rel_acc = 1e-9 #relative accuracy target\n",
    "boost_bessel = True #should the bessel functions be calculated with boost instead of GSL, higher accuracy at high Bessel orders\n",
    "verbose = False #should the code talk to you?\n",
    "lp_triple.set_levin(n_sub, n_bisec_max, rel_acc, boost_bessel, verbose)\n",
    "\n",
    "M = 1000\n",
    "k = np.geomspace(1e-2,1000,M)\n",
    "ell_1 = (5*np.ones_like(k)).astype(int)\n",
    "ell_2 = (10*np.ones_like(k)).astype(int)\n",
    "ell_3 = (15*np.ones_like(k)).astype(int)\n",
    "\n",
    "t0 = time.time()\n",
    "lp_triple.levin_integrate_bessel_triple(x[0]*np.ones_like(k),x[-1]*np.ones_like(k),k,k,k,ell_1,ell_2,ell_3, result_levin)\n",
    "print(\"Levin took\", time.time() -t0, \"s\")\n",
    "\n",
    "t0 = time.time()\n",
    "for k_i, k_val in enumerate(k):\n",
    "    for i_integral in range(N):\n",
    "        integrand_quad = lambda xquad: ((xquad**(3*y[i_integral]) + xquad**2 + xquad)*spherical_jn(ell_1[0],k_val*xquad) * spherical_jn(ell_2[0],k_val*xquad)* spherical_jn(ell_3[0],k_val*xquad))\n",
    "        quad_result[k_i, i_integral] = integrate.quad(integrand_quad, x[0], x[-1], epsabs=0, epsrel = 1e-4, limit = 1000)[0]\n",
    "print(\"Quadrature took\", time.time() -t0, \"s\")\n",
    "\n",
    "fig, ax = plt.subplots(2)#\n",
    "ax[0].semilogx(k,quad_result[:,0]*k**3, label = r\"quadrature\")\n",
    "ax[0].semilogx(k,result_levin[:,0]*k**3, ls = \"--\", label = r\"levin\")\n",
    "ax[0].set_ylabel(r\"$k^3 \\times$ integral\", fontsize = 16)\n",
    "ax[0].grid(axis = \"both\")\n",
    "ax[0].legend(fontsize = 12)\n",
    "ax[0].set_ylim(1.1*np.min(result_levin[:,0]*k**3),1.1*np.max(result_levin[:,0]*k**3))\n",
    "\n",
    "\n",
    "ax[1].semilogx(k, (quad_result[:,0] - result_levin[:,0])/result_levin[:,0])\n",
    "ax[1].set_xlabel(\"k\", fontsize = 16)\n",
    "ax[1].set_ylabel(\"relative difference\", fontsize = 16)\n",
    "ax[1].set_ylim(-.01,.01)\n",
    "ax[1].grid()\n",
    "plt.subplots_adjust(wspace=0, hspace=0)"
   ]
  },
  {
   "cell_type": "markdown",
   "metadata": {},
   "source": [
    "# Using only the diagonals of integrands and parameters\n",
    "\n",
    "It is possible to calculate only the diagonals of the specified integrands and the given parameters. For this purpose, suppose we have the integral:\n",
    "\n",
    "$$ I(y) = \\int_a^b j_\\ell(xy) f(x,y) \\mathrm{d}x\\,. $$\n",
    "\n",
    "Now we would, as before specify the integrand by providing $f(x,y)$ as before, but this time for 2000 values of $y$:"
   ]
  },
  {
   "cell_type": "code",
   "execution_count": null,
   "metadata": {},
   "outputs": [],
   "source": [
    "x_length = 100\n",
    "N = 2000\n",
    "x = np.geomspace(1e-5,100,x_length) #define support\n",
    "y = np.geomspace(1e-2,1e3, N) \n",
    "f_of_x = x[:,None]**3*y[None,:] + (x**2 +x)[:, None] #define integrands f(x) "
   ]
  },
  {
   "cell_type": "markdown",
   "metadata": {},
   "source": [
    "So here we look at the following integrand:\n",
    "\n",
    "$$\n",
    "f(x,y) = x^3*y + x^2 + x\\;,\n",
    "$$\n",
    "\n",
    "If we would simply initialise ``pylevin`` and call the integral for ``y`` as before, we would calculate ``(N,N)``, although we only want the diagonal of this matrix. The way around is to tell ``pylevin`` to only calculate the diagonals. This is done by setting the last argument of the constructor to ``True``. Since the default value is ``False`` we didn't need to take care of this before."
   ]
  },
  {
   "cell_type": "code",
   "execution_count": null,
   "metadata": {},
   "outputs": [],
   "source": [
    "integral_type = 0 \n",
    "N_thread = 1 # Number of threads used for hyperthreading\n",
    "logx = True # Tells the code to create a logarithmic spline in x for f(x)\n",
    "logy = True # Tells the code to create a logarithmic spline in y for y = f(x)\n",
    "diagonal = True\n",
    "lp_single = levin.pylevin(integral_type, x, f_of_x, logx, logy, N_thread, diagonal) #Constructor of the class\n",
    "\n",
    "n_sub = 10 #number of collocation points in each bisection\n",
    "n_bisec_max = 32 #maximum number of bisections used\n",
    "rel_acc = 1e-4 #relative accuracy target\n",
    "boost_bessel = True #should the bessel functions be calculated with boost instead of GSL, higher accuracy at high Bessel orders\n",
    "verbose = False #should the code talk to you?\n",
    "lp_single.set_levin(n_sub, n_bisec_max, rel_acc, boost_bessel, verbose)"
   ]
  },
  {
   "cell_type": "markdown",
   "metadata": {},
   "source": [
    "When using the diagonals only, we expect only ``N`` results. Therefore, when allocating the corresponding result, we also only allocate a one-dimensional array with length ``N``. Otherwise, everything else stays the same as before."
   ]
  },
  {
   "cell_type": "code",
   "execution_count": null,
   "metadata": {},
   "outputs": [],
   "source": [
    "M = N #number of arguments at which the integrals are evaluated\n",
    "k = np.copy(y)\n",
    "ell = (5*np.ones_like(k)).astype(int) #order of the Bessel function, needs to be an integer\n",
    "t0 = time.time()\n",
    "result_levin = np.zeros(N) #allocate the result\n",
    "lp_single.levin_integrate_bessel_single(x[0]*np.ones_like(k), x[-1]*np.ones_like(k), k, ell, result_levin)\n",
    "print(\"Levin took\", time.time() -t0, \"s\")\n"
   ]
  },
  {
   "cell_type": "code",
   "execution_count": null,
   "metadata": {},
   "outputs": [],
   "source": [
    "from scipy.special import spherical_jn, jv\n",
    "from scipy import integrate\n",
    "\n",
    "\n",
    "quad_result = np.zeros_like(result_levin)\n",
    "\n",
    "t0 = time.time()\n",
    "for k_i, k_val in enumerate(y):\n",
    "    integrand_quad = lambda xquad: ((xquad**3*y[k_i] + xquad**2 + xquad)*spherical_jn(ell[0],k_val*xquad))\n",
    "    quad_result[k_i] = integrate.quad(integrand_quad, x[0], x[-1], epsabs=0, epsrel = 1e-4)[0]\n",
    "print(\"Quadrature took\", time.time() -t0, \"s\")\n",
    "\n",
    "fig, ax = plt.subplots(2)\n",
    "ax[0].semilogx(y,quad_result[:], label = r\"quadrature\")\n",
    "ax[0].semilogx(y,result_levin[:], ls = \"--\", label = r\"levin\")\n",
    "ax[0].set_ylabel(r\"integral\", fontsize = 16)\n",
    "ax[0].grid(axis = \"both\")\n",
    "ax[0].legend(fontsize = 12)\n",
    "ax[0].set_ylim(np.min(result_levin),np.max(result_levin))\n",
    "\n",
    "\n",
    "ax[1].semilogx(y, (quad_result - result_levin)/result_levin)\n",
    "ax[1].set_xlabel(\"y\", fontsize = 16)\n",
    "ax[1].set_ylabel(\"relative difference\", fontsize = 16)\n",
    "ax[1].set_ylim(-.01,.01)\n",
    "ax[1].grid()\n",
    "plt.subplots_adjust(wspace=0, hspace=0)\n"
   ]
  }
 ],
 "metadata": {
  "kernelspec": {
   "display_name": "levinpower_env",
   "language": "python",
   "name": "python3"
  },
  "language_info": {
   "codemirror_mode": {
    "name": "ipython",
    "version": 3
   },
   "file_extension": ".py",
   "mimetype": "text/x-python",
   "name": "python",
   "nbconvert_exporter": "python",
   "pygments_lexer": "ipython3",
   "version": "3.12.5"
  }
 },
 "nbformat": 4,
 "nbformat_minor": 2
}
